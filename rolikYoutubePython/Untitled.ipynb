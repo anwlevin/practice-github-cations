{
 "cells": [
  {
   "cell_type": "code",
   "execution_count": null,
   "id": "0cad6c6c",
   "metadata": {
    "ExecuteTime": {
     "end_time": "2023-09-20T22:05:45.398169Z",
     "start_time": "2023-09-20T22:05:45.390587Z"
    }
   },
   "outputs": [],
   "source": []
  },
  {
   "cell_type": "code",
   "execution_count": null,
   "id": "11080a07",
   "metadata": {},
   "outputs": [],
   "source": []
  }
 ],
 "metadata": {
  "kernelspec": {
   "display_name": "Python 3 (ipykernel)",
   "language": "python",
   "name": "python3"
  },
  "language_info": {
   "codemirror_mode": {
    "name": "ipython",
    "version": 3
   },
   "file_extension": ".py",
   "mimetype": "text/x-python",
   "name": "python",
   "nbconvert_exporter": "python",
   "pygments_lexer": "ipython3",
   "version": "3.11.5"
  }
 },
 "nbformat": 4,
 "nbformat_minor": 5
}
