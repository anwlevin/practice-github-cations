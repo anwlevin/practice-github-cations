{
 "cells": [
  {
   "cell_type": "code",
   "execution_count": 1,
   "id": "aad0726c",
   "metadata": {},
   "outputs": [
    {
     "name": "stdout",
     "output_type": "stream",
     "text": [
      "https://www.youtube.com/watch?v=F8cu1MQfrq4\n"
     ]
    }
   ],
   "source": [
    "import pathlib\n",
    "\n",
    "LINK = 'https://www.youtube.com/watch?v=F8cu1MQfrq4'\n",
    "\n",
    "\n",
    "\n",
    "def makeRecord(link):\n",
    "    \n",
    "    root = pathlib.Path().absolute()\n",
    "    \n",
    "    \n",
    "    print(link)\n",
    "    \n",
    "    \n",
    "\n",
    "makeRecord(LINK)\n",
    "    "
   ]
  },
  {
   "cell_type": "code",
   "execution_count": 2,
   "id": "f9b113b6",
   "metadata": {},
   "outputs": [],
   "source": [
    "import os\n",
    "import pathlib\n",
    "\n",
    "\n",
    "\n"
   ]
  },
  {
   "cell_type": "code",
   "execution_count": 3,
   "id": "70d06083",
   "metadata": {},
   "outputs": [
    {
     "ename": "ModuleNotFoundError",
     "evalue": "No module named 'youtube_transcript_api'",
     "output_type": "error",
     "traceback": [
      "\u001B[0;31m---------------------------------------------------------------------------\u001B[0m",
      "\u001B[0;31mModuleNotFoundError\u001B[0m                       Traceback (most recent call last)",
      "Cell \u001B[0;32mIn[3], line 1\u001B[0m\n\u001B[0;32m----> 1\u001B[0m \u001B[38;5;28;01mfrom\u001B[39;00m \u001B[38;5;21;01myoutube_transcript_api\u001B[39;00m \u001B[38;5;28;01mimport\u001B[39;00m YouTubeTranscriptApi\n\u001B[1;32m      3\u001B[0m ID \u001B[38;5;241m=\u001B[39m \u001B[38;5;124m'\u001B[39m\u001B[38;5;124mF8cu1MQfrq4\u001B[39m\u001B[38;5;124m'\u001B[39m\n\u001B[1;32m      5\u001B[0m mocie \u001B[38;5;241m=\u001B[39m \u001B[38;5;124m'\u001B[39m\u001B[38;5;124mhttps://www.youtube.com/watch?v=F8cu1MQfrq4\u001B[39m\u001B[38;5;124m'\u001B[39m\n",
      "\u001B[0;31mModuleNotFoundError\u001B[0m: No module named 'youtube_transcript_api'"
     ]
    }
   ],
   "source": [
    "from youtube_transcript_api import YouTubeTranscriptApi\n",
    " \n",
    "ID = 'F8cu1MQfrq4'\n",
    "\n",
    "mocie = 'https://www.youtube.com/watch?v=F8cu1MQfrq4'\n",
    "\n",
    "\n",
    "#srt = YouTubeTranscriptApi.get_transcript(ID, languages=['ru'])\n",
    "\n",
    "title = YouTubeTranscriptApi\n",
    "\n",
    "print(srt)"
   ]
  },
  {
   "cell_type": "code",
   "execution_count": null,
   "id": "2707210c",
   "metadata": {},
   "outputs": [],
   "source": []
  },
  {
   "cell_type": "code",
   "execution_count": null,
   "id": "2d62a537",
   "metadata": {},
   "outputs": [],
   "source": []
  },
  {
   "cell_type": "code",
   "execution_count": 84,
   "id": "e5353bd3",
   "metadata": {},
   "outputs": [
    {
     "name": "stdout",
     "output_type": "stream",
     "text": [
      "URL:  https://www.youtube.com/watch?v=F8cu1MQfrq4\n",
      "\n",
      "URL:  https://youtu.be/ErNBeDutHR0?si=0vzKQEUg-6Ezrf85\n",
      "\n",
      "URL:  https://youtu.be/KmxFLGRhg2c?si=EaB52n5XunYB6hF5\n",
      "\n",
      "URL:  https://youtu.be/ZndJ5dwEVYQ?si=_2QsZ0S08oBqvyyK\n",
      "\n",
      "URL:  https://youtu.be/wjRn6fZg1TI?si=Q9scEnNbWi6HXg8e\n",
      "\n",
      "URL:  https://youtu.be/g0dzarXiZoM?si=VtcQDWziLINbEUJl\n",
      "\n",
      "URL:  https://youtu.be/e0ndxj-ARcg?si=8AgIPCAtHUdau71l\n",
      "\n",
      "URL:  https://youtu.be/dDAFn-JIrOU?si=pGDzRjQCQtexlMz0\n",
      "\n",
      "URL:  https://youtu.be/T9R57NTJYKY?si=g3i2lQcvoQhgwjcY\n",
      "\n",
      "URL:  https://youtu.be/lZKWZ23vmSM?si=3thnXTzYjzPCO1al\n",
      "\n"
     ]
    }
   ],
   "source": [
    "from parseData import get_video_info\n",
    "from pytube import YouTube\n",
    "import requests\n",
    "\n",
    "\n",
    "def write_file(path, data, mode='w+'):\n",
    "    path = pathlib.Path(path)\n",
    "    try:\n",
    "        with open(path.resolve().as_posix(), mode) as f:\n",
    "            f.write(data)\n",
    "    except (Exception,):\n",
    "        print('Err.', 'write_file: try: with open()')\n",
    "        return\n",
    "\n",
    "    return path.as_posix()\n",
    "\n",
    "\n",
    "def wget(url, path):\n",
    "    r = requests.get(url, allow_redirects=True, stream=True)\n",
    "    write_file(path, r.content, mode='wb+')\n",
    "\n",
    "\n",
    "def preData(url):\n",
    "    out = {}\n",
    "    data = get_video_info(url)\n",
    "    \n",
    "    out['description'] = data['description']\n",
    "    #print(data)\n",
    "\n",
    "    yt = YouTube(url)\n",
    "    out['title'] = yt.title\n",
    "\n",
    "    out['thumbnail_url'] = yt.thumbnail_url\n",
    "\n",
    "    out['id'] = yt.vid_info['videoDetails']['videoId']\n",
    "\n",
    "    return out\n",
    "\n",
    "\n",
    "\n",
    "template = Template(\n",
    "'''\n",
    "### $title\n",
    "\n",
    "\n",
    "\n",
    "[$url]($url)\n",
    "\n",
    "\n",
    "$description\n",
    "\n",
    "\n",
    "![$thumbnail_path]($thumbnail_path)\n",
    "'''\n",
    ")\n",
    "\n",
    "\n",
    "def makeNote(url):\n",
    "    print('URL: ', url)\n",
    "    print()\n",
    "\n",
    "    timestamp = str(int(datetime.now().timestamp()))\n",
    "    #print(timestamp)\n",
    "    \n",
    "    data = preData(url)\n",
    "    #print('Data: ', data)\n",
    "\n",
    "    id = data['id']\n",
    "    title = data['title']\n",
    "    slug = slugify(title)\n",
    "    \n",
    "    name = f'{timestamp}_{slug:.32}_{id}'\n",
    "\n",
    "    thumbnail_url = data['thumbnail_url']\n",
    "    ext = thumbnail_url.split('.')[-1]\n",
    "\n",
    "    new_thumb_name = f'{name}.{ext}'\n",
    "    \n",
    "    NOTES_ROOT = 'notes'\n",
    "    root = pathlib.Path().absolute().parent\n",
    "    notes = root.joinpath(NOTES_ROOT)\n",
    "\n",
    "    new_thumb_path = notes.joinpath(new_thumb_name)\n",
    "\n",
    "    wget(thumbnail_url, new_thumb_path.as_posix())\n",
    "\n",
    "\n",
    "    mapping = {\n",
    "        'title': title, \n",
    "        'url':  url,\n",
    "        'description': data['description'],\n",
    "        'thumbnail_path': new_thumb_name\n",
    "    }\n",
    "    text = template.substitute(**mapping)\n",
    "    #print(text)\n",
    "    \n",
    "    md_name = f'{name}.md'\n",
    "\n",
    "    write_file(notes.joinpath(md_name), text)\n",
    "\n",
    "\n",
    "\n",
    "\n",
    "links = '''https://www.youtube.com/watch?v=F8cu1MQfrq4\n",
    "https://youtu.be/ErNBeDutHR0?si=0vzKQEUg-6Ezrf85\n",
    "https://youtu.be/KmxFLGRhg2c?si=EaB52n5XunYB6hF5\n",
    "https://youtu.be/ZndJ5dwEVYQ?si=_2QsZ0S08oBqvyyK\n",
    "https://youtu.be/wjRn6fZg1TI?si=Q9scEnNbWi6HXg8e\n",
    "https://youtu.be/g0dzarXiZoM?si=VtcQDWziLINbEUJl\n",
    "https://youtu.be/e0ndxj-ARcg?si=8AgIPCAtHUdau71l\n",
    "https://youtu.be/dDAFn-JIrOU?si=pGDzRjQCQtexlMz0\n",
    "https://youtu.be/T9R57NTJYKY?si=g3i2lQcvoQhgwjcY\n",
    "https://youtu.be/lZKWZ23vmSM?si=3thnXTzYjzPCO1al'''\n",
    "\n",
    "for link in links.split('\\n'):\n",
    "    out = makeNote(link)\n",
    "\n"
   ]
  },
  {
   "cell_type": "code",
   "execution_count": 69,
   "id": "196c1468",
   "metadata": {},
   "outputs": [
    {
     "name": "stdout",
     "output_type": "stream",
     "text": [
      "\n",
      "# Title1\n",
      "\n",
      "\n",
      "\n",
      "[Thumb1](Thumb1)\n",
      "\n",
      "\n",
      "D description\n",
      "\n",
      "\n",
      "![555thumbnail_path](555thumbnail_path)\n",
      "\n"
     ]
    }
   ],
   "source": [
    "from string import Template\n",
    "\n",
    "\n",
    "\n",
    "\n",
    "\n",
    "\n"
   ]
  },
  {
   "cell_type": "code",
   "execution_count": null,
   "id": "eff0e165",
   "metadata": {},
   "outputs": [],
   "source": []
  },
  {
   "cell_type": "code",
   "execution_count": 5,
   "id": "92b9f772",
   "metadata": {},
   "outputs": [],
   "source": [
    "\n",
    "\n",
    "\n",
    "th = yt.thumbnail_url\n"
   ]
  },
  {
   "cell_type": "code",
   "execution_count": 78,
   "id": "3889f75a-78c7-4c79-9e05-b8a339c5bb0f",
   "metadata": {},
   "outputs": [
    {
     "name": "stdout",
     "output_type": "stream",
     "text": [
      "АНДРЕЙ ЗУБОВ. Тайная вечеря\n",
      "None\n",
      "None\n",
      "2019-04-24 00:00:00\n",
      "{'responseContext': {'visitorData': 'CgtIaXIwUjZiaHRXdyiQp6moBjIICgJSVRICGgA%3D', 'serviceTrackingParams': [{'service': 'GFEEDBACK', 'params': [{'key': 'ipcc', 'value': '0'}, {'key': 'is_alc_surface', 'value': 'false'}, {'key': 'is_viewed_live', 'value': 'False'}, {'key': 'logged_in', 'value': '0'}, {'key': 'e', 'value': '23946420,23966208,23983296,23998056,24004644,24007246,24034168,24036947,24077241,24078649,24080738,24120819,24135310,24140247,24181174,24186125,24187377,24211178,24241378,24255543,24255545,24265964,24285788,24288664,24290971,24362605,24363516,24367580,24368304,24368831,24371778,24372101,24372110,24374311,24377909,24379039,24379061,24379129,24379354,24379858,24379964,24379967,24382552,24383024,24385612,24389130,24390675,24428788,24451319,24458317,24458324,24458329,24458839,24468724,24469818,24471201,24485421,24501184,24502053,24502749,24503058,24503565,24506625,24506784,24515366,24515423,24518452,24519102,24520147,24524098,24526101,24526515,24526646,24526774,24526785,24526794,24526801,24526808,24526815,24526827,24528357,24528461,24528470,24528477,24528484,24528550,24528555,24528573,24528580,24528640,24528649,24528659,24528668,24529352,24529361,24532146,24537200,24542367,24542452,24543277,24546059,24546075,24547650,24547939,24547942,24548139,24548627,24548629,24549780,24550285,24552606,24552860,24556101,24559327,24560416,24561136,24561154,24561208,24563746,24563968,24568022,24569336,24582620,24691334,24694842,24698452,39324156,51003636,51004018,51006155,51006352,51006403,51006405,51006488,51007015,51007117,51007328,51009781,51009900,51010623,51010680,51011488,51011713,51011903,51012331,51012687,51013020,51014091,51014902,51015206,51016855,51018026,51018689,51018899,51019442,51019512,51019626,51020348,51020570,51021570,51022733,51023208,51024036,51024084'}]}, {'service': 'CSI', 'params': [{'key': 'c', 'value': 'ANDROID_MUSIC'}, {'key': 'cver', 'value': '5.16.51'}, {'key': 'yt_li', 'value': '0'}, {'key': 'GetPlayer_rid', 'value': '0xda4c82f3998cc644'}]}, {'service': 'ECATCHER', 'params': [{'key': 'client.version', 'value': '5.16'}, {'key': 'client.name', 'value': 'ANDROID_MUSIC'}]}, {'service': 'LISTNR', 'params': [{'key': 'e', 'value': '24362605,24569336,51006488,24549780,51010623,51012331,51004018,51009781,51012687,51013020,24502053,24506784,51006405,24542367,51015206,51023208,51020570,24528357,51018689,24274141,24181174,24195012,24036947,24543277,24288664,24515423,24458317,24515366,24552606,24458324,24506625,24537200,51007328,51018899,24195115,24518452,24034168,24410415,24382552,24548627,24559327,24563746,24503058,24582620,39324156,24385612,24694842,51007015,51011488,51014091,24502749,51019442,24526515,24547650,51014902,24253784,24519102,51018026,51019626,24290971,24458839,24548139,24563968,24367580,24546075,51006155,51006403,24542452,51011713,24428788,24458329,24253780,24451319,24550285,24560416,51016855,24552860,24556101,51011903,24253767,51006352,24548629,24524098,24526101,24186125,51003636,24286257,24691334,24220751,24181216,51009900,24520147,24469818,24135310,24140247'}]}], 'maxAgeSeconds': 0}, 'playabilityStatus': {'status': 'UNPLAYABLE', 'reason': 'This video is not available', 'contextParams': 'Q0FFU0FnZ0M='}, 'videoDetails': {'videoId': 'F8cu1MQfrq4', 'title': 'АНДРЕЙ ЗУБОВ. Тайная вечеря', 'lengthSeconds': '1260', 'channelId': 'UCqlOGPWldiA8rHsZcMSmtBg', 'isOwnerViewing': False, 'isCrawlable': True, 'thumbnail': {'thumbnails': [{'url': 'https://i.ytimg.com/vi/F8cu1MQfrq4/mqdefault.jpg', 'width': 320, 'height': 180}, {'url': 'https://i.ytimg.com/vi/F8cu1MQfrq4/hqdefault.jpg?sqp=-oaymwEXCJADEOABSFryq4qpAwkIARUAAIhCGAE=&rs=AOn4CLBteZqoc3Q-VpKTqVBSzAidZy7-VQ', 'width': 400, 'height': 224}, {'url': 'https://i.ytimg.com/vi/F8cu1MQfrq4/hq720.jpg?sqp=-oaymwEXCKAGEMIDSFryq4qpAwkIARUAAIhCGAE=&rs=AOn4CLAvkupSzhghiIDrmyIo7H4j_k1uDg', 'width': 800, 'height': 450}, {'url': 'https://i.ytimg.com/vi/F8cu1MQfrq4/hq720.jpg', 'width': 1280, 'height': 720}]}, 'allowRatings': True, 'viewCount': '12436', 'author': 'Студия Неофит', 'isPrivate': False, 'isUnpluggedCorpus': False, 'isLiveContent': False}, 'trackingParams': 'CAAQu2kiEwi7leKMjbiBAxXNlPQHHcbtDWc=', 'adBreakHeartbeatParams': 'Q0FBJTNE'}\n"
     ]
    }
   ],
   "source": [
    "print(yt.title)\n",
    "print(yt.description)\n",
    "print(yt.description)\n",
    "print(yt.publish_date)\n",
    "print(yt.vid_info)"
   ]
  },
  {
   "cell_type": "code",
   "execution_count": 24,
   "id": "930ca25d",
   "metadata": {},
   "outputs": [
    {
     "name": "stdout",
     "output_type": "stream",
     "text": [
      "F8cu1MQfrq4\n"
     ]
    }
   ],
   "source": [
    "print(yt.vid_info['videoDetails']['videoId'])"
   ]
  },
  {
   "cell_type": "code",
   "execution_count": 33,
   "id": "064520fb",
   "metadata": {},
   "outputs": [
    {
     "name": "stdout",
     "output_type": "stream",
     "text": [
      "АНДРЕЙ ЗУБОВ. Тайная вечеря\n",
      "andrei-zubov-tainaia-vecheria\n"
     ]
    }
   ],
   "source": [
    "from slugify import slugify\n",
    "\n",
    "title = yt.title\n",
    "print(title)\n",
    "\n",
    "\n",
    "\n",
    "print(r)"
   ]
  },
  {
   "cell_type": "code",
   "execution_count": null,
   "id": "cc3ef995-5dff-48c9-952e-cde5532e06fe",
   "metadata": {},
   "outputs": [],
   "source": []
  },
  {
   "cell_type": "code",
   "execution_count": 38,
   "id": "a7641d95-6ed3-4a02-af10-30a95d6b9d62",
   "metadata": {},
   "outputs": [
    {
     "name": "stdout",
     "output_type": "stream",
     "text": [
      "andrei-zubov-tai\n"
     ]
    }
   ],
   "source": [
    "my_str = 'andrei-zubov-tainaia-vecheria'\n",
    "\n",
    "\n",
    "result = f'{my_str:.16}'\n",
    "\n",
    "\n",
    "print(result)"
   ]
  },
  {
   "cell_type": "code",
   "execution_count": null,
   "id": "d0dd327a-0e3d-4c63-9eb0-ed9721389f6f",
   "metadata": {},
   "outputs": [],
   "source": []
  },
  {
   "cell_type": "code",
   "execution_count": null,
   "id": "a32e432c-c0d7-4ad9-a2f1-6f88e2b528eb",
   "metadata": {},
   "outputs": [],
   "source": []
  },
  {
   "cell_type": "code",
   "execution_count": null,
   "id": "e0404ae1-2e03-49ca-a93c-ef0295d816c1",
   "metadata": {},
   "outputs": [],
   "source": []
  },
  {
   "cell_type": "code",
   "execution_count": null,
   "id": "f5a292d8-4943-40bb-9f2f-e9b3e285a691",
   "metadata": {},
   "outputs": [],
   "source": []
  },
  {
   "cell_type": "code",
   "execution_count": null,
   "id": "0c88ce50-f57f-4c09-8cab-b717d0e5172f",
   "metadata": {},
   "outputs": [],
   "source": []
  },
  {
   "cell_type": "code",
   "execution_count": null,
   "id": "eb943d57-fe24-4380-a34d-130ffd93674a",
   "metadata": {},
   "outputs": [],
   "source": []
  },
  {
   "cell_type": "code",
   "execution_count": null,
   "id": "18eb92c9-bf58-479f-8bdd-85deeafaa8e1",
   "metadata": {},
   "outputs": [],
   "source": []
  },
  {
   "cell_type": "code",
   "execution_count": null,
   "id": "54e407d7-d6ae-45a9-b0fb-585fa9899b6f",
   "metadata": {},
   "outputs": [],
   "source": []
  },
  {
   "cell_type": "code",
   "execution_count": null,
   "id": "41049d18-a030-41e9-8700-4433061ca006",
   "metadata": {},
   "outputs": [],
   "source": []
  },
  {
   "cell_type": "code",
   "execution_count": null,
   "id": "4c0ddd99-7930-429e-bb7b-1c1786840013",
   "metadata": {},
   "outputs": [],
   "source": []
  },
  {
   "cell_type": "code",
   "execution_count": null,
   "id": "d2f39cba-5ec7-47ed-b278-13e12b3b9359",
   "metadata": {},
   "outputs": [],
   "source": []
  },
  {
   "cell_type": "code",
   "execution_count": null,
   "id": "9d033272-c3b1-4c5a-adae-3a31cf393acc",
   "metadata": {},
   "outputs": [],
   "source": []
  },
  {
   "cell_type": "code",
   "execution_count": null,
   "id": "86680b20-5866-4d4e-a2f1-ddee8864705c",
   "metadata": {},
   "outputs": [],
   "source": []
  },
  {
   "cell_type": "code",
   "execution_count": null,
   "id": "ca366209",
   "metadata": {},
   "outputs": [],
   "source": []
  },
  {
   "cell_type": "code",
   "execution_count": null,
   "id": "7753d8f4",
   "metadata": {},
   "outputs": [],
   "source": []
  },
  {
   "cell_type": "code",
   "execution_count": null,
   "id": "5ad90c3c",
   "metadata": {},
   "outputs": [],
   "source": []
  }
 ],
 "metadata": {
  "kernelspec": {
   "display_name": "Python 3 (ipykernel)",
   "language": "python",
   "name": "python3"
  },
  "language_info": {
   "codemirror_mode": {
    "name": "ipython",
    "version": 3
   },
   "file_extension": ".py",
   "mimetype": "text/x-python",
   "name": "python",
   "nbconvert_exporter": "python",
   "pygments_lexer": "ipython3",
   "version": "3.11.5"
  }
 },
 "nbformat": 4,
 "nbformat_minor": 5
}
