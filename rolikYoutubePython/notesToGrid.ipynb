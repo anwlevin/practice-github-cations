{
 "cells": [
  {
   "cell_type": "code",
   "execution_count": 61,
   "id": "1eb8c653-6131-488e-8c7f-e5e8857cc264",
   "metadata": {
    "scrolled": true
   },
   "outputs": [
    {
     "name": "stdout",
     "output_type": "stream",
     "text": [
      "/Users/andrewlevin/Desktop/practice-github-cations/notes/1695248803_otkrytaia-lektsiia-r-r-vakhitova_dDAFn-JIrOU.md\n",
      "/Users/andrewlevin/Desktop/practice-github-cations/notes/1695248805_aleksandr-filonenko-kosmologiia-_T9R57NTJYKY.md\n",
      "/Users/andrewlevin/Desktop/practice-github-cations/notes/1695248792_a-filonenko-kurs-pinokkio-vveden_ErNBeDutHR0.md\n",
      "/Users/andrewlevin/Desktop/practice-github-cations/notes/1695248801_t-levina-oslepitelnyi-mrak-chern_e0ndxj-ARcg.md\n",
      "/Users/andrewlevin/Desktop/practice-github-cations/notes/1695248790_andrei-zubov-tainaia-vecheria_F8cu1MQfrq4.md\n",
      "/Users/andrewlevin/Desktop/practice-github-cations/notes/1695248799_kak-zhit-svoei-zhizniu-aleksandr_g0dzarXiZoM.md\n",
      "/Users/andrewlevin/Desktop/practice-github-cations/notes/1695248795_platon-kak-master-myshleniia-i-f_ZndJ5dwEVYQ.md\n",
      "/Users/andrewlevin/Desktop/practice-github-cations/notes/1695248807_a-akhutin-kurs-evropeiskii-chelo_lZKWZ23vmSM.md\n",
      "/Users/andrewlevin/Desktop/practice-github-cations/notes/1695248797_semiotika-rasskazyvaet-professor_wjRn6fZg1TI.md\n",
      "/Users/andrewlevin/Desktop/practice-github-cations/notes/1695248794_27-iz-33-iurii-lotman-iskusstvo-_KmxFLGRhg2c.md\n"
     ]
    }
   ],
   "source": [
    "import pathlib\n",
    "import marko\n",
    "import bs4\n",
    "import re\n",
    "\n",
    "from string import Template\n",
    "\n",
    "NOTES_ROOT = 'notes'\n",
    "\n",
    "\n",
    "def read_file(path: str | pathlib.Path):\n",
    "    path = pathlib.Path(path)\n",
    "\n",
    "    try:\n",
    "        with open(path.resolve().as_posix()) as f:\n",
    "            data = f.read()\n",
    "    except (Exception,):\n",
    "        print('Err - except Exception: try: with open(path.absolute().as_posix()) ')\n",
    "        return\n",
    "\n",
    "    return data\n",
    "\n",
    "\n",
    "\n",
    "def oneNote(path):\n",
    "    \n",
    "    parts = parseNoteParts(path)\n",
    "    parts = {\n",
    "        'title': '',\n",
    "        'link': '',\n",
    "        'description': '',\n",
    "        'thumbnail': ''\n",
    "    }\n",
    "    \n",
    "    data = read_file(path)\n",
    "    markdown = marko.Markdown()\n",
    "    html = markdown(data)\n",
    "    \n",
    "    soup = bs4.BeautifulSoup(html, 'html.parser')\n",
    "\n",
    "    if titles := soup.find_all(re.compile(\"^h[1-6]$\")):\n",
    "        parts['title'] = titles[0].text  \n",
    "    \n",
    "    if youtubelink_s := soup.find_all('a', href=True):\n",
    "        parts['link'] = youtubelink_s[0]['href'] \n",
    "    \n",
    "    if description_s := soup.find_all('code'):\n",
    "        parts['description'] = description_s[0].text.strip()\n",
    "    \n",
    "    if thumbnail_s := soup.find_all('img', src=True):\n",
    "        parts['thumbnail'] = thumbnail_s[0]['src']\n",
    "\n",
    "    return parts\n",
    "    \n",
    "\n",
    "\n",
    "\n",
    "cardTemplate = Template('''\n",
    "<div class=\"card m-1 mb-4 \" >\n",
    "    <img class=\"card-img-top\" src=\"$thumbnail\" >\n",
    "    <div class=\"card-body\">\n",
    "        <h5 class=\"card-title\">$title</h5>\n",
    "        \n",
    "        <p class=\"card-text\">\n",
    "            $description\n",
    "        </p>\n",
    "        <p class=\"card-text\">\n",
    "            <a href=\"$link\" class=\"stretched-link\">$link</a>\n",
    "        </p>\n",
    "    </div>\n",
    "</div>\n",
    "''')\n",
    "\n",
    "cardsTemplate = Template('''\n",
    "<div class=\"card-columns\" style=\"column-count: 3;\">\n",
    "$content\n",
    "</div>\n",
    "''')\n",
    "\n",
    "\n",
    "\n",
    "\n",
    "\n",
    "def notesGrid():\n",
    "    notes = pathlib.Path().absolute().parent.joinpath(NOTES_ROOT)\n",
    "\n",
    "    files = list(notes.iterdir())\n",
    "    mds = list(filter(lambda ff: ff.suffix == '.md', files))\n",
    "\n",
    "    cards_html = ''\n",
    "    \n",
    "    for md in mds:\n",
    "        print(md)\n",
    "        parts = oneNote(md)\n",
    "\n",
    "        mapping = {\n",
    "            'title': parts['title'], \n",
    "            'link':  parts['link'],\n",
    "            'description': parts['description'],\n",
    "            'thumbnail': parts['thumbnail']\n",
    "        }\n",
    "        card_html = cardTemplate.substitute(**mapping).strip()\n",
    "    \n",
    "        cards_html += f'{card_html}\\n'\n",
    "\n",
    "\n",
    "    cardsHtml = cardsTemplate.substitute(**{'content': cards_html})\n",
    "\n",
    "    htmlBase = Template(read_file('baseTemplate.html')).substitute(**{'content': cardsHtml})\n",
    "    name = notes.joinpath('index.html')\n",
    "    write_file(name, htmlBase)\n",
    "    \n",
    "notesGrid()\n",
    "    "
   ]
  },
  {
   "cell_type": "code",
   "execution_count": 33,
   "id": "ac251ec9-7f14-476d-b5b2-bd87f109e7c5",
   "metadata": {},
   "outputs": [],
   "source": [
    "content0 = 'CONTENT'"
   ]
  },
  {
   "cell_type": "code",
   "execution_count": 36,
   "id": "49c33fb6-5413-4ea1-8b24-f1a568f00f5a",
   "metadata": {},
   "outputs": [
    {
     "ename": "RuntimeError",
     "evalue": "Working outside of application context.\n\nThis typically means that you attempted to use functionality that needed\nthe current application. To solve this, set up an application context\nwith app.app_context(). See the documentation for more information.",
     "output_type": "error",
     "traceback": [
      "\u001b[0;31m---------------------------------------------------------------------------\u001b[0m",
      "\u001b[0;31mRuntimeError\u001b[0m                              Traceback (most recent call last)",
      "Cell \u001b[0;32mIn[36], line 15\u001b[0m\n\u001b[1;32m     10\u001b[0m         \u001b[38;5;28;01mreturn\u001b[39;00m\n\u001b[1;32m     12\u001b[0m     \u001b[38;5;28;01mreturn\u001b[39;00m path\u001b[38;5;241m.\u001b[39mas_posix()\n\u001b[0;32m---> 15\u001b[0m html \u001b[38;5;241m=\u001b[39m \u001b[43mrender_template\u001b[49m\u001b[43m(\u001b[49m\u001b[38;5;124;43m'\u001b[39;49m\u001b[38;5;124;43mbaseTemplate.html\u001b[39;49m\u001b[38;5;124;43m'\u001b[39;49m\u001b[43m,\u001b[49m\u001b[43m \u001b[49m\u001b[43mcontent\u001b[49m\u001b[38;5;241;43m=\u001b[39;49m\u001b[43mcontent0\u001b[49m\u001b[43m)\u001b[49m\n\u001b[1;32m     16\u001b[0m \u001b[38;5;28mprint\u001b[39m(html)\n\u001b[1;32m     18\u001b[0m write_file(\u001b[38;5;124m'\u001b[39m\u001b[38;5;124mindex.html\u001b[39m\u001b[38;5;124m'\u001b[39m, html)\n",
      "File \u001b[0;32m~/Desktop/practice-github-cations/rolikYoutubePython/venv/lib/python3.11/site-packages/flask/templating.py:149\u001b[0m, in \u001b[0;36mrender_template\u001b[0;34m(template_name_or_list, **context)\u001b[0m\n\u001b[1;32m    139\u001b[0m \u001b[38;5;28;01mdef\u001b[39;00m \u001b[38;5;21mrender_template\u001b[39m(\n\u001b[1;32m    140\u001b[0m     template_name_or_list: \u001b[38;5;28mstr\u001b[39m \u001b[38;5;241m|\u001b[39m Template \u001b[38;5;241m|\u001b[39m \u001b[38;5;28mlist\u001b[39m[\u001b[38;5;28mstr\u001b[39m \u001b[38;5;241m|\u001b[39m Template],\n\u001b[1;32m    141\u001b[0m     \u001b[38;5;241m*\u001b[39m\u001b[38;5;241m*\u001b[39mcontext: t\u001b[38;5;241m.\u001b[39mAny,\n\u001b[1;32m    142\u001b[0m ) \u001b[38;5;241m-\u001b[39m\u001b[38;5;241m>\u001b[39m \u001b[38;5;28mstr\u001b[39m:\n\u001b[1;32m    143\u001b[0m \u001b[38;5;250m    \u001b[39m\u001b[38;5;124;03m\"\"\"Render a template by name with the given context.\u001b[39;00m\n\u001b[1;32m    144\u001b[0m \n\u001b[1;32m    145\u001b[0m \u001b[38;5;124;03m    :param template_name_or_list: The name of the template to render. If\u001b[39;00m\n\u001b[1;32m    146\u001b[0m \u001b[38;5;124;03m        a list is given, the first name to exist will be rendered.\u001b[39;00m\n\u001b[1;32m    147\u001b[0m \u001b[38;5;124;03m    :param context: The variables to make available in the template.\u001b[39;00m\n\u001b[1;32m    148\u001b[0m \u001b[38;5;124;03m    \"\"\"\u001b[39;00m\n\u001b[0;32m--> 149\u001b[0m     app \u001b[38;5;241m=\u001b[39m \u001b[43mcurrent_app\u001b[49m\u001b[38;5;241;43m.\u001b[39;49m\u001b[43m_get_current_object\u001b[49m\u001b[43m(\u001b[49m\u001b[43m)\u001b[49m  \u001b[38;5;66;03m# type: ignore[attr-defined]\u001b[39;00m\n\u001b[1;32m    150\u001b[0m     template \u001b[38;5;241m=\u001b[39m app\u001b[38;5;241m.\u001b[39mjinja_env\u001b[38;5;241m.\u001b[39mget_or_select_template(template_name_or_list)\n\u001b[1;32m    151\u001b[0m     \u001b[38;5;28;01mreturn\u001b[39;00m _render(app, template, context)\n",
      "File \u001b[0;32m~/Desktop/practice-github-cations/rolikYoutubePython/venv/lib/python3.11/site-packages/werkzeug/local.py:508\u001b[0m, in \u001b[0;36mLocalProxy.__init__.<locals>._get_current_object\u001b[0;34m()\u001b[0m\n\u001b[1;32m    506\u001b[0m     obj \u001b[38;5;241m=\u001b[39m local\u001b[38;5;241m.\u001b[39mget()\n\u001b[1;32m    507\u001b[0m \u001b[38;5;28;01mexcept\u001b[39;00m \u001b[38;5;167;01mLookupError\u001b[39;00m:\n\u001b[0;32m--> 508\u001b[0m     \u001b[38;5;28;01mraise\u001b[39;00m \u001b[38;5;167;01mRuntimeError\u001b[39;00m(unbound_message) \u001b[38;5;28;01mfrom\u001b[39;00m \u001b[38;5;28;01mNone\u001b[39;00m\n\u001b[1;32m    510\u001b[0m \u001b[38;5;28;01mreturn\u001b[39;00m get_name(obj)\n",
      "\u001b[0;31mRuntimeError\u001b[0m: Working outside of application context.\n\nThis typically means that you attempted to use functionality that needed\nthe current application. To solve this, set up an application context\nwith app.app_context(). See the documentation for more information."
     ]
    }
   ],
   "source": [
    "from jinja2 import Template\n",
    "\n",
    "def write_file(path, data, mode='w+'):\n",
    "    path = pathlib.Path(path)\n",
    "    try:\n",
    "        with open(path.resolve().as_posix(), mode) as f:\n",
    "            f.write(data)\n",
    "    except (Exception,):\n",
    "        print('Err.', 'write_file: try: with open()')\n",
    "        return\n",
    "\n",
    "    return path.as_posix()\n",
    "\n",
    "\n",
    "def renderPage(path, content):\n",
    "    html = render_template('baseTemplate.html', content=content0)\n",
    "    print(html)\n",
    "\n",
    "write_file('index.html', html)\n",
    "\n"
   ]
  },
  {
   "cell_type": "code",
   "execution_count": 44,
   "id": "0f748858-71df-4bf8-b1fe-9d7ae3553749",
   "metadata": {},
   "outputs": [
    {
     "ename": "RuntimeError",
     "evalue": "Working outside of application context.\n\nThis typically means that you attempted to use functionality that needed\nthe current application. To solve this, set up an application context\nwith app.app_context(). See the documentation for more information.",
     "output_type": "error",
     "traceback": [
      "\u001b[0;31m---------------------------------------------------------------------------\u001b[0m",
      "\u001b[0;31mRuntimeError\u001b[0m                              Traceback (most recent call last)",
      "Cell \u001b[0;32mIn[44], line 6\u001b[0m\n\u001b[1;32m      2\u001b[0m     html \u001b[38;5;241m=\u001b[39m render_template(\u001b[38;5;124m'\u001b[39m\u001b[38;5;124mbaseTemplate.html\u001b[39m\u001b[38;5;124m'\u001b[39m, content\u001b[38;5;241m=\u001b[39mcontent0)\n\u001b[1;32m      3\u001b[0m     \u001b[38;5;28mprint\u001b[39m(html)\n\u001b[0;32m----> 6\u001b[0m \u001b[43mrenderPage\u001b[49m\u001b[43m(\u001b[49m\u001b[38;5;124;43m'\u001b[39;49m\u001b[38;5;124;43mindex.html\u001b[39;49m\u001b[38;5;124;43m'\u001b[39;49m\u001b[43m,\u001b[49m\u001b[43m \u001b[49m\u001b[38;5;124;43m'\u001b[39;49m\u001b[38;5;124;43mCONTENT-1234\u001b[39;49m\u001b[38;5;124;43m'\u001b[39;49m\u001b[43m)\u001b[49m\n",
      "Cell \u001b[0;32mIn[44], line 2\u001b[0m, in \u001b[0;36mrenderPage\u001b[0;34m(path, content)\u001b[0m\n\u001b[1;32m      1\u001b[0m \u001b[38;5;28;01mdef\u001b[39;00m \u001b[38;5;21mrenderPage\u001b[39m(path, content):\n\u001b[0;32m----> 2\u001b[0m     html \u001b[38;5;241m=\u001b[39m \u001b[43mrender_template\u001b[49m\u001b[43m(\u001b[49m\u001b[38;5;124;43m'\u001b[39;49m\u001b[38;5;124;43mbaseTemplate.html\u001b[39;49m\u001b[38;5;124;43m'\u001b[39;49m\u001b[43m,\u001b[49m\u001b[43m \u001b[49m\u001b[43mcontent\u001b[49m\u001b[38;5;241;43m=\u001b[39;49m\u001b[43mcontent0\u001b[49m\u001b[43m)\u001b[49m\n\u001b[1;32m      3\u001b[0m     \u001b[38;5;28mprint\u001b[39m(html)\n",
      "File \u001b[0;32m~/Desktop/practice-github-cations/rolikYoutubePython/venv/lib/python3.11/site-packages/flask/templating.py:149\u001b[0m, in \u001b[0;36mrender_template\u001b[0;34m(template_name_or_list, **context)\u001b[0m\n\u001b[1;32m    139\u001b[0m \u001b[38;5;28;01mdef\u001b[39;00m \u001b[38;5;21mrender_template\u001b[39m(\n\u001b[1;32m    140\u001b[0m     template_name_or_list: \u001b[38;5;28mstr\u001b[39m \u001b[38;5;241m|\u001b[39m Template \u001b[38;5;241m|\u001b[39m \u001b[38;5;28mlist\u001b[39m[\u001b[38;5;28mstr\u001b[39m \u001b[38;5;241m|\u001b[39m Template],\n\u001b[1;32m    141\u001b[0m     \u001b[38;5;241m*\u001b[39m\u001b[38;5;241m*\u001b[39mcontext: t\u001b[38;5;241m.\u001b[39mAny,\n\u001b[1;32m    142\u001b[0m ) \u001b[38;5;241m-\u001b[39m\u001b[38;5;241m>\u001b[39m \u001b[38;5;28mstr\u001b[39m:\n\u001b[1;32m    143\u001b[0m \u001b[38;5;250m    \u001b[39m\u001b[38;5;124;03m\"\"\"Render a template by name with the given context.\u001b[39;00m\n\u001b[1;32m    144\u001b[0m \n\u001b[1;32m    145\u001b[0m \u001b[38;5;124;03m    :param template_name_or_list: The name of the template to render. If\u001b[39;00m\n\u001b[1;32m    146\u001b[0m \u001b[38;5;124;03m        a list is given, the first name to exist will be rendered.\u001b[39;00m\n\u001b[1;32m    147\u001b[0m \u001b[38;5;124;03m    :param context: The variables to make available in the template.\u001b[39;00m\n\u001b[1;32m    148\u001b[0m \u001b[38;5;124;03m    \"\"\"\u001b[39;00m\n\u001b[0;32m--> 149\u001b[0m     app \u001b[38;5;241m=\u001b[39m \u001b[43mcurrent_app\u001b[49m\u001b[38;5;241;43m.\u001b[39;49m\u001b[43m_get_current_object\u001b[49m\u001b[43m(\u001b[49m\u001b[43m)\u001b[49m  \u001b[38;5;66;03m# type: ignore[attr-defined]\u001b[39;00m\n\u001b[1;32m    150\u001b[0m     template \u001b[38;5;241m=\u001b[39m app\u001b[38;5;241m.\u001b[39mjinja_env\u001b[38;5;241m.\u001b[39mget_or_select_template(template_name_or_list)\n\u001b[1;32m    151\u001b[0m     \u001b[38;5;28;01mreturn\u001b[39;00m _render(app, template, context)\n",
      "File \u001b[0;32m~/Desktop/practice-github-cations/rolikYoutubePython/venv/lib/python3.11/site-packages/werkzeug/local.py:508\u001b[0m, in \u001b[0;36mLocalProxy.__init__.<locals>._get_current_object\u001b[0;34m()\u001b[0m\n\u001b[1;32m    506\u001b[0m     obj \u001b[38;5;241m=\u001b[39m local\u001b[38;5;241m.\u001b[39mget()\n\u001b[1;32m    507\u001b[0m \u001b[38;5;28;01mexcept\u001b[39;00m \u001b[38;5;167;01mLookupError\u001b[39;00m:\n\u001b[0;32m--> 508\u001b[0m     \u001b[38;5;28;01mraise\u001b[39;00m \u001b[38;5;167;01mRuntimeError\u001b[39;00m(unbound_message) \u001b[38;5;28;01mfrom\u001b[39;00m \u001b[38;5;28;01mNone\u001b[39;00m\n\u001b[1;32m    510\u001b[0m \u001b[38;5;28;01mreturn\u001b[39;00m get_name(obj)\n",
      "\u001b[0;31mRuntimeError\u001b[0m: Working outside of application context.\n\nThis typically means that you attempted to use functionality that needed\nthe current application. To solve this, set up an application context\nwith app.app_context(). See the documentation for more information."
     ]
    }
   ],
   "source": [
    "def renderPage(path, content):\n",
    "    html = render_template('baseTemplate.html', content=content0)\n",
    "    print(html)\n",
    "\n",
    "\n",
    "renderPage('index.html', 'CONTENT-1234')"
   ]
  },
  {
   "cell_type": "code",
   "execution_count": null,
   "id": "1f72396e-9a58-4642-a574-80f943aa0d23",
   "metadata": {},
   "outputs": [],
   "source": []
  },
  {
   "cell_type": "code",
   "execution_count": null,
   "id": "12202eee-443d-4c32-a872-282ada7a9c7c",
   "metadata": {},
   "outputs": [],
   "source": []
  },
  {
   "cell_type": "code",
   "execution_count": null,
   "id": "4e3e2fe2-27ab-4b65-bcd1-5bde534d6d76",
   "metadata": {},
   "outputs": [],
   "source": []
  },
  {
   "cell_type": "code",
   "execution_count": null,
   "id": "f8f394d0-e3aa-4df8-8ed6-bba46dc8b4b7",
   "metadata": {},
   "outputs": [],
   "source": []
  }
 ],
 "metadata": {
  "kernelspec": {
   "display_name": "Python 3 (ipykernel)",
   "language": "python",
   "name": "python3"
  },
  "language_info": {
   "codemirror_mode": {
    "name": "ipython",
    "version": 3
   },
   "file_extension": ".py",
   "mimetype": "text/x-python",
   "name": "python",
   "nbconvert_exporter": "python",
   "pygments_lexer": "ipython3",
   "version": "3.11.5"
  }
 },
 "nbformat": 4,
 "nbformat_minor": 5
}
