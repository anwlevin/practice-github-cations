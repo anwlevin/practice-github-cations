{
 "cells": [
  {
   "cell_type": "code",
   "execution_count": 1,
   "id": "890d4e33",
   "metadata": {},
   "outputs": [
    {
     "name": "stdout",
     "output_type": "stream",
     "text": [
      "https://www.youtube.com/watch?v=F8cu1MQfrq4\n"
     ]
    }
   ],
   "source": [
    "\n",
    "\n",
    "LINK = 'https://www.youtube.com/watch?v=F8cu1MQfrq4'\n",
    "\n",
    "\n",
    "\n",
    "def makeRecord(link):\n",
    "    \n",
    "    root = pathlib.Path().absolute()\n",
    "    \n",
    "    \n",
    "    print(link)\n",
    "    \n",
    "    \n",
    "\n",
    "makeRecord(LINK)\n",
    "    "
   ]
  },
  {
   "cell_type": "code",
   "execution_count": 8,
   "id": "9c7cd310",
   "metadata": {},
   "outputs": [
    {
     "name": "stdout",
     "output_type": "stream",
     "text": [
      "/Users/andrewlevin/Desktop/practice-github-cations/rolikYoutubePython\n",
      "/Users/andrewlevin/Desktop/practice-github-cations\n"
     ]
    }
   ],
   "source": [
    "import os\n",
    "import pathlib\n",
    "\n",
    "\n",
    "\n"
   ]
  },
  {
   "cell_type": "code",
   "execution_count": null,
   "id": "43fac170",
   "metadata": {},
   "outputs": [],
   "source": [
    "from youtube_transcript_api import YouTubeTranscriptApi\n",
    " \n",
    "ID = 'F8cu1MQfrq4'\n",
    "\n",
    "mocie = 'https://www.youtube.com/watch?v=F8cu1MQfrq4'\n",
    "\n",
    "\n",
    "#srt = YouTubeTranscriptApi.get_transcript(ID, languages=['ru'])\n",
    "\n",
    "title = YouTubeTranscriptApi\n",
    "\n",
    "print(srt)"
   ]
  },
  {
   "cell_type": "code",
   "execution_count": 11,
   "id": "6bbd685c",
   "metadata": {},
   "outputs": [
    {
     "ename": "ModuleNotFoundError",
     "evalue": "No module named 'requests_html'",
     "output_type": "error",
     "traceback": [
      "\u001b[0;31m---------------------------------------------------------------------------\u001b[0m",
      "\u001b[0;31mModuleNotFoundError\u001b[0m                       Traceback (most recent call last)",
      "Cell \u001b[0;32mIn[11], line 1\u001b[0m\n\u001b[0;32m----> 1\u001b[0m \u001b[38;5;28;01mfrom\u001b[39;00m \u001b[38;5;21;01mrequests_html\u001b[39;00m \u001b[38;5;28;01mimport\u001b[39;00m HTMLSession\n\u001b[1;32m      2\u001b[0m \u001b[38;5;28;01mfrom\u001b[39;00m \u001b[38;5;21;01mbs4\u001b[39;00m \u001b[38;5;28;01mimport\u001b[39;00m BeautifulSoup \u001b[38;5;28;01mas\u001b[39;00m bs\n\u001b[1;32m      3\u001b[0m \u001b[38;5;28;01mimport\u001b[39;00m \u001b[38;5;21;01mre\u001b[39;00m\n",
      "\u001b[0;31mModuleNotFoundError\u001b[0m: No module named 'requests_html'"
     ]
    }
   ],
   "source": [
    "from requests_html import HTMLSession\n",
    "from bs4 import BeautifulSoup as bs\n",
    "import re\n",
    "import json\n",
    "\n",
    "# init session\n",
    "session = HTMLSession()\n",
    "\n",
    "\n",
    "def get_video_info(url):\n",
    "    # download HTML code\n",
    "    response = session.get(url)\n",
    "    # execute Javascript\n",
    "    response.html.render(timeout=60)\n",
    "    # create beautiful soup object to parse HTML\n",
    "    soup = bs(response.html.html, \"html.parser\")\n",
    "    # open(\"index.html\", \"w\").write(response.html.html)\n",
    "    # initialize the result\n",
    "    result = {}\n",
    "    # video title\n",
    "    result[\"title\"] = soup.find(\"meta\", itemprop=\"name\")['content']\n",
    "    # video views\n",
    "    result[\"views\"] = soup.find(\"meta\", itemprop=\"interactionCount\")['content']\n",
    "    # video description\n",
    "    result[\"description\"] = soup.find(\"meta\", itemprop=\"description\")['content']\n",
    "    # date published\n",
    "    result[\"date_published\"] = soup.find(\"meta\", itemprop=\"datePublished\")['content']\n",
    "    # get the duration of the video\n",
    "    result[\"duration\"] = soup.find(\"span\", {\"class\": \"ytp-time-duration\"}).text\n",
    "    # get the video tags\n",
    "    result[\"tags\"] = ', '.join([ meta.attrs.get(\"content\") for meta in soup.find_all(\"meta\", {\"property\": \"og:video:tag\"}) ])\n",
    "\n",
    "    # Additional video and channel information (with help from: https://stackoverflow.com/a/68262735)\n",
    "    data = re.search(r\"var ytInitialData = ({.*?});\", soup.prettify()).group(1)\n",
    "    data_json = json.loads(data)\n",
    "    videoPrimaryInfoRenderer = data_json['contents']['twoColumnWatchNextResults']['results']['results']['contents'][0]['videoPrimaryInfoRenderer']\n",
    "    videoSecondaryInfoRenderer = data_json['contents']['twoColumnWatchNextResults']['results']['results']['contents'][1]['videoSecondaryInfoRenderer']\n",
    "    # number of likes\n",
    "    likes_label = videoPrimaryInfoRenderer['videoActions']['menuRenderer']['topLevelButtons'][0]['toggleButtonRenderer']['defaultText']['accessibility']['accessibilityData']['label'] # \"No likes\" or \"###,### likes\"\n",
    "    likes_str = likes_label.split(' ')[0].replace(',','')\n",
    "    result[\"likes\"] = '0' if likes_str == 'No' else likes_str\n",
    "    # number of likes (old way) doesn't always work\n",
    "    # text_yt_formatted_strings = soup.find_all(\"yt-formatted-string\", {\"id\": \"text\", \"class\": \"ytd-toggle-button-renderer\"})\n",
    "    # result[\"likes\"] = ''.join([ c for c in text_yt_formatted_strings[0].attrs.get(\"aria-label\") if c.isdigit() ])\n",
    "    # result[\"likes\"] = 0 if result['likes'] == '' else int(result['likes'])\n",
    "    # number of dislikes - YouTube does not publish this anymore...\n",
    "    # result[\"dislikes\"] = ''.join([ c for c in text_yt_formatted_strings[1].attrs.get(\"aria-label\") if c.isdigit() ])\t\n",
    "    # result[\"dislikes\"] = '0' if result['dislikes'] == '' else result['dislikes']\n",
    "    result['dislikes'] = 'UNKNOWN'\n",
    "    # channel details\n",
    "    channel_tag = soup.find(\"meta\", itemprop=\"channelId\")['content']\n",
    "    # channel name\n",
    "    channel_name = soup.find(\"span\", itemprop=\"author\").next.next['content']\n",
    "    # channel URL\n",
    "    # channel_url = soup.find(\"span\", itemprop=\"author\").next['href']\n",
    "    channel_url = f\"https://www.youtube.com/{channel_tag}\"\n",
    "    # number of subscribers as str\n",
    "    channel_subscribers = videoSecondaryInfoRenderer['owner']['videoOwnerRenderer']['subscriberCountText']['accessibility']['accessibilityData']['label']\n",
    "    # channel details (old way)\n",
    "    # channel_tag = soup.find(\"yt-formatted-string\", {\"class\": \"ytd-channel-name\"}).find(\"a\")\n",
    "    # # channel name (old way)\n",
    "    # channel_name = channel_tag.text\n",
    "    # # channel URL (old way)\n",
    "    # channel_url = f\"https://www.youtube.com{channel_tag['href']}\"\n",
    "    # number of subscribers as str (old way)\n",
    "    # channel_subscribers = soup.find(\"yt-formatted-string\", {\"id\": \"owner-sub-count\"}).text.strip()\n",
    "    result['channel'] = {'name': channel_name, 'url': channel_url, 'subscribers': channel_subscribers}\n",
    "    return result\n",
    "\n",
    "if __name__ == \"__main__\":\n",
    "    import argparse\n",
    "    parser = argparse.ArgumentParser(description=\"YouTube Video Data Extractor\")\n",
    "    parser.add_argument(\"url\", help=\"URL of the YouTube video\")\n",
    "\n",
    "    args = parser.parse_args()\n",
    "    # parse the video URL from command line\n",
    "    url = args.url\n",
    "    \n",
    "    data = get_video_info(url)\n",
    "\n"
   ]
  },
  {
   "cell_type": "code",
   "execution_count": 12,
   "id": "8b0fcd20",
   "metadata": {},
   "outputs": [
    {
     "ename": "ModuleNotFoundError",
     "evalue": "No module named 'requests_html'",
     "output_type": "error",
     "traceback": [
      "\u001b[0;31m---------------------------------------------------------------------------\u001b[0m",
      "\u001b[0;31mModuleNotFoundError\u001b[0m                       Traceback (most recent call last)",
      "Cell \u001b[0;32mIn[12], line 1\u001b[0m\n\u001b[0;32m----> 1\u001b[0m \u001b[38;5;28;01mfrom\u001b[39;00m \u001b[38;5;21;01mrequests_html\u001b[39;00m \u001b[38;5;28;01mimport\u001b[39;00m HTMLSession\n",
      "\u001b[0;31mModuleNotFoundError\u001b[0m: No module named 'requests_html'"
     ]
    }
   ],
   "source": [
    "from requests_html import HTMLSession"
   ]
  },
  {
   "cell_type": "code",
   "execution_count": null,
   "id": "cc94e3a8",
   "metadata": {},
   "outputs": [],
   "source": []
  },
  {
   "cell_type": "code",
   "execution_count": null,
   "id": "3d57992c",
   "metadata": {},
   "outputs": [],
   "source": []
  },
  {
   "cell_type": "code",
   "execution_count": null,
   "id": "8d1c4343",
   "metadata": {},
   "outputs": [],
   "source": []
  },
  {
   "cell_type": "code",
   "execution_count": null,
   "id": "35c7832f",
   "metadata": {},
   "outputs": [],
   "source": []
  },
  {
   "cell_type": "code",
   "execution_count": null,
   "id": "fa165ad7",
   "metadata": {},
   "outputs": [],
   "source": []
  },
  {
   "cell_type": "code",
   "execution_count": null,
   "id": "40da1f48",
   "metadata": {},
   "outputs": [],
   "source": []
  },
  {
   "cell_type": "code",
   "execution_count": null,
   "id": "6b322c55",
   "metadata": {},
   "outputs": [],
   "source": []
  },
  {
   "cell_type": "code",
   "execution_count": null,
   "id": "834ebbd9",
   "metadata": {},
   "outputs": [],
   "source": []
  },
  {
   "cell_type": "code",
   "execution_count": null,
   "id": "6848efe2",
   "metadata": {},
   "outputs": [],
   "source": []
  },
  {
   "cell_type": "code",
   "execution_count": null,
   "id": "d07d5919",
   "metadata": {},
   "outputs": [],
   "source": []
  }
 ],
 "metadata": {
  "kernelspec": {
   "display_name": "Python 3 (ipykernel)",
   "language": "python",
   "name": "python3"
  },
  "language_info": {
   "codemirror_mode": {
    "name": "ipython",
    "version": 3
   },
   "file_extension": ".py",
   "mimetype": "text/x-python",
   "name": "python",
   "nbconvert_exporter": "python",
   "pygments_lexer": "ipython3",
   "version": "3.11.5"
  }
 },
 "nbformat": 4,
 "nbformat_minor": 5
}
